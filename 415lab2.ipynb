{
 "cells": [
  {
   "cell_type": "code",
   "execution_count": 13,
   "id": "3fe9af3e-1507-4903-87ca-c3fe01855cae",
   "metadata": {},
   "outputs": [
    {
     "name": "stdout",
     "output_type": "stream",
     "text": [
      "Matrix size \t Multiplication \t Addition \t Total \t\t Time\n",
      "\t 1 \t\t 1 \t\t 0 \t\t 1 \t\t 1e-06\n",
      "\t 2 \t\t 4 \t\t 3 \t\t 8 \t\t 8e-06\n",
      "\t 3 \t\t 9 \t\t 8 \t\t 19 \t\t 1.8999999999999998e-05\n",
      "\t 4 \t\t 16 \t\t 15 \t\t 34 \t\t 3.4e-05\n",
      "\t 5 \t\t 25 \t\t 24 \t\t 53 \t\t 5.3e-05\n",
      "\t 6 \t\t 36 \t\t 35 \t\t 76 \t\t 7.599999999999999e-05\n",
      "\t 7 \t\t 49 \t\t 48 \t\t 103 \t\t 0.000103\n",
      "\t 8 \t\t 64 \t\t 63 \t\t 134 \t\t 0.000134\n",
      "\t 9 \t\t 81 \t\t 80 \t\t 169 \t\t 0.000169\n",
      "\t 10 \t\t 100 \t\t 99 \t\t 208 \t\t 0.000208\n"
     ]
    }
   ],
   "source": [
    "print(\"Matrix size\",'\\t',\"Multiplication\",'\\t',\"Addition\",'\\t',\"Total\",'\\t\\t',\"Time\")\n",
    "for n in range(1,11):\n",
    "    mul=n*(n-1)+n\n",
    "    add= n*(n-1)+n-1\n",
    "    total=mul+add +(n-1)\n",
    "    time=total*(10**-6)\n",
    "    print('\\t',n,'\\t\\t',mul,'\\t\\t',add,'\\t\\t',total,'\\t\\t',time)"
   ]
  },
  {
   "cell_type": "code",
   "execution_count": 15,
   "id": "07b43019-fab9-40bf-af9a-8bb2acb2cc74",
   "metadata": {},
   "outputs": [
    {
     "name": "stdout",
     "output_type": "stream",
     "text": [
      "Matrix size \t Multiplication \t Addition \t Total \t\t Time\n",
      "\t 1 \t\t 1 \t\t 0 \t\t 1 \t\t 1e-06\n",
      "\t 2 \t\t 4 \t\t 3 \t\t 8 \t\t 8e-06\n",
      "\t 3 \t\t 9 \t\t 8 \t\t 19 \t\t 1.8999999999999998e-05\n",
      "\t 4 \t\t 16 \t\t 15 \t\t 34 \t\t 3.4e-05\n",
      "\t 5 \t\t 25 \t\t 24 \t\t 53 \t\t 5.3e-05\n",
      "\t 6 \t\t 36 \t\t 35 \t\t 76 \t\t 7.599999999999999e-05\n",
      "\t 7 \t\t 49 \t\t 48 \t\t 103 \t\t 0.000103\n",
      "\t 8 \t\t 64 \t\t 63 \t\t 134 \t\t 0.000134\n",
      "\t 9 \t\t 81 \t\t 80 \t\t 169 \t\t 0.000169\n",
      "\t 10 \t\t 100 \t\t 99 \t\t 208 \t\t 0.000208\n"
     ]
    }
   ],
   "source": [
    "print(\"Matrix size\",'\\t',\"Multiplication\",'\\t',\"Addition\",'\\t',\"Total\",'\\t\\t',\"Time\")\n",
    "for n in range(1,11):\n",
    "    mul=n*(n-1)+n\n",
    "    add= n*(n-1)+n-1\n",
    "    total=mul+add +(n-1)\n",
    "    time=total*(10**-6)\n",
    "    \n",
    "    print('\\t',n,'\\t\\t',mul,'\\t\\t',add,'\\t\\t',total,'\\t\\t',time)"
   ]
  },
  {
   "cell_type": "code",
   "execution_count": 29,
   "id": "4eb51666-bbff-4ac7-b8ac-972182e4f593",
   "metadata": {},
   "outputs": [
    {
     "ename": "SyntaxError",
     "evalue": "incomplete input (2599290039.py, line 5)",
     "output_type": "error",
     "traceback": [
      "\u001b[1;36m  Cell \u001b[1;32mIn[29], line 5\u001b[1;36m\u001b[0m\n\u001b[1;33m    \u001b[0m\n\u001b[1;37m    ^\u001b[0m\n\u001b[1;31mSyntaxError\u001b[0m\u001b[1;31m:\u001b[0m incomplete input\n"
     ]
    }
   ],
   "source": [
    "\n",
    "        \n"
   ]
  },
  {
   "cell_type": "code",
   "execution_count": 124,
   "id": "70629930-aacb-4334-a612-6e55c6b89846",
   "metadata": {},
   "outputs": [
    {
     "data": {
      "text/latex": [
       "$\\displaystyle \\left[\\begin{matrix}-5\\\\-9\\\\6\\end{matrix}\\right]$"
      ],
      "text/plain": [
       "Matrix([\n",
       "[-5],\n",
       "[-9],\n",
       "[ 6]])"
      ]
     },
     "execution_count": 124,
     "metadata": {},
     "output_type": "execute_result"
    }
   ],
   "source": [
    "import sympy as sp\n",
    "def coord(vec,basis):\n",
    "    basis = sp.Matrix(basis).T\n",
    "    vec=sp.Matrix(vec)\n",
    "    cord=basis.solve(vec)\n",
    "    return cord\n",
    "\n",
    "s=[\n",
    "    [1,1,1],\n",
    "    [0,1,1],\n",
    "    [1,2,3]\n",
    "    \n",
    "]\n",
    "\n",
    "v=[[1],[-2],[4]]\n",
    "coord(v,s)\n",
    "    \n",
    "   \n",
    "\n"
   ]
  },
  {
   "cell_type": "code",
   "execution_count": 126,
   "id": "4262aeb3-e205-42db-88de-297477f53b0a",
   "metadata": {},
   "outputs": [
    {
     "data": {
      "text/latex": [
       "$\\displaystyle \\left[\\begin{matrix}-5\\\\-9\\\\6\\end{matrix}\\right]$"
      ],
      "text/plain": [
       "Matrix([\n",
       "[-5],\n",
       "[-9],\n",
       "[ 6]])"
      ]
     },
     "execution_count": 126,
     "metadata": {},
     "output_type": "execute_result"
    }
   ],
   "source": [
    "import sympy as sp\n",
    "def coord(vec,basis):\n",
    "    basis = sp.Matrix(basis).T\n",
    "    vec=sp.Matrix(vec)\n",
    "    cord=basis.solve(vec)\n",
    "    return cord\n",
    "\n",
    "s=[\n",
    "    [1,1,1],\n",
    "    [0,1,1],\n",
    "    [1,2,3]\n",
    "    \n",
    "]\n",
    "\n",
    "v=[[1],[-2],[4]]\n",
    "coord(v,s)\n",
    "\n",
    "\n",
    "\n"
   ]
  },
  {
   "cell_type": "code",
   "execution_count": null,
   "id": "bead2d79-e5f6-437d-9e87-d7825e3da4d6",
   "metadata": {},
   "outputs": [],
   "source": [
    "import numpy as np\n",
    "v=np."
   ]
  }
 ],
 "metadata": {
  "kernelspec": {
   "display_name": "Python 3 (ipykernel)",
   "language": "python",
   "name": "python3"
  },
  "language_info": {
   "codemirror_mode": {
    "name": "ipython",
    "version": 3
   },
   "file_extension": ".py",
   "mimetype": "text/x-python",
   "name": "python",
   "nbconvert_exporter": "python",
   "pygments_lexer": "ipython3",
   "version": "3.12.4"
  }
 },
 "nbformat": 4,
 "nbformat_minor": 5
}
